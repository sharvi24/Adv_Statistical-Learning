{
 "cells": [
  {
   "cell_type": "markdown",
   "metadata": {},
   "source": [
    "<h1><center>STAT-542 HW3</center></h1>\n",
    "Sharvi Tomar (stomar2)"
   ]
  },
  {
   "cell_type": "markdown",
   "metadata": {},
   "source": [
    "## About HW3"
   ]
  },
  {
   "cell_type": "markdown",
   "metadata": {},
   "source": [
    "In the first question, we will use a simulation study to confirm the theoretical analysis we developed during the lecture. In the second question, we will practice several linear model selection techniques such as AIC, BIC, and best subset selection. However, some difficulties are at the data processing part, in which we use the Bitcoin data from Kaggle. This is essentially a time-series dataset, and we use the information in previous days to predict the price in a future day. Make sure that you process the data correctly to fit this task."
   ]
  },
  {
   "cell_type": "markdown",
   "metadata": {},
   "source": [
    "## Question 1 [50 Points] A Simulation Study"
   ]
  },
  {
   "cell_type": "markdown",
   "metadata": {},
   "source": [
    "Let's use a simulation study to confirm the bias-variance trade-off of linear regressions. Consider the following model. \n",
    "\n",
    "$$Y = \\sum_j^p 0.8^j \\times X_j + \\epsilon$$"
   ]
  },
  {
   "cell_type": "markdown",
   "metadata": {},
   "source": [
    "All the covariates and the error term follow i.i.d. standard Gaussian distribution. The true model involves all the variables; however, larger indexes do not significantly contribute to the variation. Hence, there could be a benefit in using a smaller subset for prediction purposes. Let's confirm that with a simulation study. \n",
    "\n",
    "  - Generate 100 samples of covariates $X$ with $p=30$ by the following code."
   ]
  },
  {
   "cell_type": "code",
   "execution_count": 653,
   "metadata": {},
   "outputs": [],
   "source": [
    "import random\n",
    "random.seed(542)\n",
    "n = 100\n",
    "p = 30\n",
    "b=[]\n",
    "for i in range(1,p+1): \n",
    "    b.append(0.8**i)"
   ]
  },
  {
   "cell_type": "code",
   "execution_count": 654,
   "metadata": {},
   "outputs": [],
   "source": [
    "import numpy as np\n",
    "X = np.random.normal(0, 1, size=(n, p))\n",
    "Ytrue = np.matmul(X, b)"
   ]
  },
  {
   "cell_type": "code",
   "execution_count": 655,
   "metadata": {},
   "outputs": [
    {
     "name": "stdout",
     "output_type": "stream",
     "text": [
      "(100, 30)\n",
      "(100,)\n"
     ]
    }
   ],
   "source": [
    "print(X.shape)\n",
    "print(Ytrue.shape)"
   ]
  },
  {
   "cell_type": "markdown",
   "metadata": {},
   "source": [
    "  - Then the study essentially **repeats** the following steps 100 times. Begin with another fixed random seed before your loop.\n",
    "    - Using the fixed covariates $X$, generate 100 training outcomes $Y_{train}$ and 100 testing outcomes $Y_test$ independently.\n",
    "    - Consider using only the first $j$ variables to fit the linear regression (**NO intercept term**). Let $j$ ranges from 1 to 30. Calculate and record the corresponding prediction error by comparing your prediction with the outcomes for testing data. "
   ]
  },
  {
   "cell_type": "markdown",
   "metadata": {},
   "source": [
    "**Without running the simulation**, for each $j$ value, we also have the theoretical decomposition of the testing error based on the lecture. Suppose you know the true model, covariates $X$ and the distribution of random noise.\n",
    "\n",
    "  a) [15 pts]  Please calculate the bias^2 , variance (of the prediction) and testing error for each $j$ based on the theoretical formulas. Plot the 3 lines on the same figure,  using the `number of variables` as the x-axis and `bias^2`, `variance`, `theoretical testing error`  as the y-axis. Label each line.\n",
    "   - $Bias^2 =  \\frac{1}{n} \\| E(Y_{pred} - Y_{true}) \\|^2$, where $Y$ is a $n \\times 1$ vector.\n",
    "   - $Var =  \\frac{1}{n} E \\|(Y_{pred} - E(Y_{pred}) \\|^2$."
   ]
  },
  {
   "cell_type": "code",
   "execution_count": 656,
   "metadata": {},
   "outputs": [],
   "source": [
    "from numpy.linalg import inv\n",
    "\n",
    "Y_pred=[0]*30\n",
    "bias_sq=[0]*30\n",
    "var=[0]*30\n",
    "theoretical_testing_error=[0]*30\n",
    "\n",
    "for j in range(29,-1,-1):\n",
    "    p=30-j\n",
    "    ind=29-j\n",
    "    ## Set of Covariates for each value of j\n",
    "    X_new = X[:,:p]\n",
    "    ## Hat matrix\n",
    "    H=np.matmul(X_new,np.matmul(inv(np.matmul(np.transpose(X_new),X_new)),np.transpose(X_new)))\n",
    "    ## Computing Y_pred\n",
    "    Y_pred[ind]=np.matmul(H,Ytrue)\n",
    "    ## Computing bias square\n",
    "    bias_sq[ind]=np.mean(np.square(Y_pred[ind]-Ytrue))\n",
    "    ## Computing variance\n",
    "    var[ind]=(p)/30\n",
    "    ## Computing theoretical_testing_error\n",
    "    theoretical_testing_error[ind]=(1+var[ind]+bias_sq[ind])"
   ]
  },
  {
   "cell_type": "code",
   "execution_count": 657,
   "metadata": {},
   "outputs": [
    {
     "data": {
      "image/png": "[encoded data removed]",
      "text/plain": [
       "<Figure size 432x288 with 1 Axes>"
      ]
     },
     "metadata": {
      "needs_background": "light"
     },
     "output_type": "display_data"
    }
   ],
   "source": [
    "# Plotting \n",
    "from matplotlib import pyplot as plt\n",
    "plt.plot(bias_sq)\n",
    "plt.plot(var)\n",
    "plt.plot(theoretical_testing_error)\n",
    "plt.legend([\"Bias square\", \"Variance\",\"theoretical_testing_error\"])\n",
    "plt.title('Theoretical testing error components for different values of k')\n",
    "plt.xlabel('Values of k')\n",
    "plt.show()"
   ]
  },
  {
   "cell_type": "markdown",
   "metadata": {},
   "source": [
    " b) [5 pts] Report the theoretical testing error with $p = 30$, $\\frac{1}{n}E \\|Y_{test} - Y_{pred} \\|^2$."
   ]
  },
  {
   "cell_type": "code",
   "execution_count": 658,
   "metadata": {},
   "outputs": [
    {
     "name": "stdout",
     "output_type": "stream",
     "text": [
      "The theoretical testing error with 𝑝=30 is:  2.0\n"
     ]
    }
   ],
   "source": [
    "print(\"The theoretical testing error with 𝑝=30 is: \",theoretical_testing_error[29])"
   ]
  },
  {
   "cell_type": "markdown",
   "metadata": {},
   "source": [
    "**After finishing the simulation**:\n",
    "\n",
    "  c)  [20 pts]  Perform the simulation. Report the averaged (empirical) prediction error with $p = 30$. Note that 100 times simulation approximates the $E$ operation. Plot `pred err` in the **same figure** of question a. Label your line. Does your empirical testing error match our theoretical analysis? Comment on your findings."
   ]
  },
  {
   "cell_type": "code",
   "execution_count": 659,
   "metadata": {},
   "outputs": [
    {
     "name": "stdout",
     "output_type": "stream",
     "text": [
      "The averaged (empirical) prediction error with 𝑝=30 is:  1.2848837910919098\n"
     ]
    }
   ],
   "source": [
    "from sklearn.linear_model import LinearRegression\n",
    "from sklearn.metrics import mean_squared_error\n",
    "\n",
    "# Number of simulations\n",
    "nsim=100\n",
    "\n",
    "y_pred=[[0]*30 for i in range(100)]\n",
    "prediction_error=[[0]*30 for i in range(100)]\n",
    "avg_mse=[0]*30\n",
    "\n",
    "\n",
    "for j in range(30):\n",
    "    \n",
    "    for i in range(nsim):\n",
    "        ## Generating Y_train\n",
    "        random.seed(i)\n",
    "        Y_train=np.matmul(X, b)+np.random.normal(0, 1, 100)\n",
    "    \n",
    "        ## Generating Y_est\n",
    "        random.seed(i+1)\n",
    "        Y_test= np.matmul(X, b)+np.random.normal(0, 1, 100)\n",
    "        \n",
    "        # Linear Regression Model with no intercept and j covariates\n",
    "        model = LinearRegression(fit_intercept=False).fit(X[:,:j+1], Y_train)\n",
    "        \n",
    "        # Model Predictions\n",
    "        y_pred[i][j]=model.predict(X[:,:j+1])\n",
    "    \n",
    "        # Calculating Prediction Error(MSE)\n",
    "        prediction_error[i][j]=mean_squared_error(y_pred[i][j],Y_test)\n",
    "\n",
    "    # Calculating average MSE for all simulation for a particular number of variables in Linear Model i.e. j\n",
    "    avg_mse[j]=np.mean(prediction_error[:][j])\n",
    "\n",
    "print(\"The averaged (empirical) prediction error with 𝑝=30 is: \", avg_mse[29])    "
   ]
  },
  {
   "cell_type": "code",
   "execution_count": 660,
   "metadata": {},
   "outputs": [
    {
     "data": {
      "image/png": "[encoded data removed]",
      "text/plain": [
       "<Figure size 432x288 with 1 Axes>"
      ]
     },
     "metadata": {
      "needs_background": "light"
     },
     "output_type": "display_data"
    }
   ],
   "source": [
    "# Plotting \n",
    "from matplotlib import pyplot as plt\n",
    "plt.plot(bias_sq)\n",
    "plt.plot(var)\n",
    "plt.plot(theoretical_testing_error)\n",
    "plt.plot(avg_mse)\n",
    "plt.legend([\"Bias square\", \"Variance\",\"theoretical_testing_error\",\"emperical_prediction_error\"])\n",
    "plt.title('Theoretical testing error components for different values of k')\n",
    "plt.xlabel('Values of k')\n",
    "plt.show()"
   ]
  },
  {
   "cell_type": "markdown",
   "metadata": {},
   "source": [
    "### Findings:\n",
    "\n",
    "Theoretical and empirical error follow the same trend across increasing values of k"
   ]
  },
  {
   "cell_type": "markdown",
   "metadata": {},
   "source": [
    "d)  [10 pts]  Evaluate the bias^2 for model $p=5$ without theoretical formulas. You can still assume you know the true outcomes while using the average results to approximate the $E$ operation. Compare the empirical value with the theoretical one."
   ]
  },
  {
   "cell_type": "code",
   "execution_count": 661,
   "metadata": {},
   "outputs": [
    {
     "name": "stdout",
     "output_type": "stream",
     "text": [
      "The empirical value of testing error for 5 covariates is:  1.068737970181514\n",
      "The theoretical value of testing error for 5 covariates is:  1.3167320439457666\n"
     ]
    }
   ],
   "source": [
    "empirical_error_5=np.mean(np.square(y_pred[0][5]-Y_test))\n",
    "print(\"The empirical value of testing error for 5 covariates is: \", empirical_error_5)\n",
    "print(\"The theoretical value of testing error for 5 covariates is: \",theoretical_testing_error[4])"
   ]
  },
  {
   "cell_type": "markdown",
   "metadata": {},
   "source": [
    "## Question 2 [50 Points] Bitcoin price prediction\n",
    "\n",
    "For this question, we will use the [Bitcoin data]() provided on the course website. The data were posted originally on Kaggle ([link](https://www.kaggle.com/sudalairajkumar/cryptocurrencypricehistory?select=bitcoin_cash_price.csv)). Make sure that you read relevant information from the Kaggle website. Our data is the `bitcoin_dataset.csv` file. You should use a training/testing split such that your training data is constructed using only information up to 12/31/2016, and your testing data is constructed using only information starting from 01/01/2017. The goal of our analysis is to predict the `btc_market_price`. Since this is longitudinal data, we will use the information from previous days to predict the market price at a future day. In particular, on each calendar day (say, day 1), we use the information from three days onward (days 1, 2, and 3) to predict the market price on the 7th day. \n",
    "\n",
    "Hence you need to first reconstruct the data properly to fit this purpose. This is mainly to put the outcome (of day 7) and the covariates (of the previous days) into the same row. Note that you may face missing data, categorical predictors, outliers, scaling issues, computational issues, and maybe others for this question. Use your best judgment to deal with them. There is no general ``best answer''. Hence the grading will be based on whether you provided reasoning for your decision and whether you carried out the analysis correctly.\n",
    "\n",
    "a.  [25 Points] Data Construction. Data pre-processing is usually the most time-consuming and difficult part of an analysis. We will use this example as a practice. Construct your data appropriately such that further analysis can be performed. Make sure that you consider the following:\n",
    "\n",
    "    * The data is appropriate for our analysis goal: each row contains the outcome on the seventh day and the covariates based on the first three days. The covariates are not limited to the price.\n",
    "    * Missing data is addressed (you can remove variables, remove observations, impute values or propose your own method)\n",
    "    * You may process the covariates and/or outcome by considering centering, scaling, transformation, removing outliers, etc. However, these are your choice. \n",
    "  \n",
    "For each of the above tasks, make sure that you **clearly document your choice**. In the end, provide a summary table/figure of your data. You can consider using boxplots, quantiles, histograms, or any method that is easy for readers to understand. You are required to pick at least one method to present. "
   ]
  },
  {
   "cell_type": "code",
   "execution_count": 662,
   "metadata": {},
   "outputs": [],
   "source": [
    "# Loading the data\n",
    "import pandas as pd\n",
    "bitcoin = pd.read_csv(\"bitcoin.csv\")"
   ]
  },
  {
   "cell_type": "markdown",
   "metadata": {},
   "source": [
    "### A. Creating Covariates"
   ]
  },
  {
   "cell_type": "code",
   "execution_count": 663,
   "metadata": {},
   "outputs": [],
   "source": [
    "# Creating 3 covariates based on the first three days of 'btc_market_price'\n",
    "bitcoin['PastDay3'] = bitcoin['btc_market_price'].shift(4)\n",
    "bitcoin['PastDay2'] = bitcoin['btc_market_price'].shift(5)\n",
    "bitcoin['PastDay1'] = bitcoin['btc_market_price'].shift(6)"
   ]
  },
  {
   "cell_type": "markdown",
   "metadata": {},
   "source": [
    "### B. Missing data handling"
   ]
  },
  {
   "cell_type": "code",
   "execution_count": 664,
   "metadata": {},
   "outputs": [
    {
     "data": {
      "text/plain": [
       "btc_trade_volume                    21\n",
       "PastDay1                             6\n",
       "PastDay2                             5\n",
       "PastDay3                             4\n",
       "btc_cost_per_transaction_percent     0\n",
       "dtype: int64"
      ]
     },
     "execution_count": 664,
     "metadata": {},
     "output_type": "execute_result"
    }
   ],
   "source": [
    "bitcoin.isnull().sum().sort_values(ascending=False)[:5] "
   ]
  },
  {
   "cell_type": "markdown",
   "metadata": {},
   "source": [
    "We can check the distributions of the variables with missing values before and after imputing the missing values. In case, the distributions is similar we can go ahead with the missing data imputing method."
   ]
  },
  {
   "cell_type": "code",
   "execution_count": 665,
   "metadata": {},
   "outputs": [
    {
     "data": {
      "image/png": "[encoded data removed]",
      "text/plain": [
       "<Figure size 1080x360 with 4 Axes>"
      ]
     },
     "metadata": {
      "needs_background": "light"
     },
     "output_type": "display_data"
    }
   ],
   "source": [
    "import matplotlib.pyplot as plt\n",
    "\n",
    "# Distribution plot before imputing missing values\n",
    "plt.figure(figsize=(15,5))\n",
    "plt.subplot(1, 4, 1)\n",
    "bitcoin.btc_trade_volume.plot(color='red')\n",
    "plt.title('btc_trade_volume')\n",
    "plt.subplot(1, 4, 2)\n",
    "bitcoin.PastDay1.plot(color='green')\n",
    "plt.title('Past_Day_1')\n",
    "plt.subplot(1, 4, 3)\n",
    "bitcoin.PastDay2.plot(color='green')\n",
    "plt.title('Past_Day_2')\n",
    "plt.subplot(1, 4, 4)\n",
    "bitcoin.PastDay3.plot(color='green')\n",
    "plt.title('Past_Day_3')\n",
    "plt.show()"
   ]
  },
  {
   "cell_type": "markdown",
   "metadata": {},
   "source": [
    "#### Filling the missing values by using the value of last valid observation.\n",
    "\n",
    "\n",
    "Reasoning: It is reasonable to assume that the bitcoin trading volume and bitcoin trading price for any day will be very similar to the volume traded and price around that timeframe. By making use of this assumption, I have replaced the missing values by last closest valid 'btc_trade_volume', 'Past_Day_3', 'Past_Day_2', 'Past_Day_1' value with 'bfill'"
   ]
  },
  {
   "cell_type": "code",
   "execution_count": 666,
   "metadata": {},
   "outputs": [],
   "source": [
    "# Used next valid observation to fill gap for btc_trade_volume, Past_Day_3, Past_Day_2, Past_Day_1\n",
    "bitcoin.fillna(method='bfill', inplace=True)"
   ]
  },
  {
   "cell_type": "code",
   "execution_count": 667,
   "metadata": {},
   "outputs": [
    {
     "data": {
      "image/png": "[encoded data removed]",
      "text/plain": [
       "<Figure size 1080x360 with 4 Axes>"
      ]
     },
     "metadata": {
      "needs_background": "light"
     },
     "output_type": "display_data"
    }
   ],
   "source": [
    "# Distribution plot after imputing missing values\n",
    "plt.figure(figsize=(15,5))\n",
    "plt.subplot(1, 4, 1)\n",
    "bitcoin.btc_trade_volume.plot(color='red')\n",
    "plt.title('btc_trade_volume')\n",
    "plt.subplot(1, 4, 2)\n",
    "bitcoin.PastDay1.plot(color='green')\n",
    "plt.title('Past_Day_1')\n",
    "plt.subplot(1, 4, 3)\n",
    "bitcoin.PastDay2.plot(color='green')\n",
    "plt.title('Past_Day_2')\n",
    "plt.subplot(1, 4, 4)\n",
    "bitcoin.PastDay3.plot(color='green')\n",
    "plt.title('Past_Day_3')\n",
    "plt.show()"
   ]
  },
  {
   "cell_type": "markdown",
   "metadata": {},
   "source": [
    "As we can see, the distribution of variables before and after the imputaiton is quite similar, we can comfortably move ahead with the current imputed values."
   ]
  },
  {
   "cell_type": "markdown",
   "metadata": {},
   "source": [
    "### C. Preprocessing"
   ]
  },
  {
   "cell_type": "markdown",
   "metadata": {},
   "source": [
    "### Dealing with Datetime variable for Linear Regression"
   ]
  },
  {
   "cell_type": "code",
   "execution_count": 668,
   "metadata": {},
   "outputs": [],
   "source": [
    "bitcoin['Year']=pd.DatetimeIndex(bitcoin['Date']).year\n",
    "bitcoin['Month']=pd.DatetimeIndex(bitcoin['Date']).month\n",
    "bitcoin['Day']=pd.DatetimeIndex(bitcoin['Date']).day"
   ]
  },
  {
   "cell_type": "markdown",
   "metadata": {},
   "source": [
    "### Outcome Variable distribution"
   ]
  },
  {
   "cell_type": "code",
   "execution_count": 669,
   "metadata": {},
   "outputs": [
    {
     "data": {
      "text/plain": [
       "Text(0.5, 1.0, 'btc_market_price')"
      ]
     },
     "execution_count": 669,
     "metadata": {},
     "output_type": "execute_result"
    },
    {
     "data": {
      "image/png": "[encoded data removed]",
      "text/plain": [
       "<Figure size 432x288 with 1 Axes>"
      ]
     },
     "metadata": {
      "needs_background": "light"
     },
     "output_type": "display_data"
    }
   ],
   "source": [
    "bitcoin.btc_market_price.plot(color='red')\n",
    "plt.title('btc_market_price')"
   ]
  },
  {
   "cell_type": "markdown",
   "metadata": {},
   "source": [
    "Since the outcome variable is highly skewed, it would be a good idea to take log transform or square root of the independent variable in our case. Since we have many zero values for which lof transform would lead to -infinity, hence taking square root would be a good choice."
   ]
  },
  {
   "cell_type": "code",
   "execution_count": 670,
   "metadata": {},
   "outputs": [],
   "source": [
    "bitcoin['sqrt_btc_market_price']=np.sqrt(bitcoin['btc_market_price'])\n",
    "bitcoin=bitcoin.drop(columns=['btc_market_price'])\n",
    "#bitcoin.head()"
   ]
  },
  {
   "cell_type": "markdown",
   "metadata": {},
   "source": [
    "### Scaling"
   ]
  },
  {
   "cell_type": "markdown",
   "metadata": {},
   "source": [
    "Differences in the scales across input variables may increase the difficulty of the problem being modeled. An example of this is that large input values (e.g. a spread of hundreds or thousands of units) can result in a model that learns large weight values. A model with large weight values is often unstable, meaning that it may suffer from poor performance during learning and sensitivity to input values resulting in higher generalization error.\n",
    "\n",
    "Hence, we will scale the bitcoin data (with the exception of Date variable)"
   ]
  },
  {
   "cell_type": "code",
   "execution_count": 671,
   "metadata": {},
   "outputs": [],
   "source": [
    "from sklearn.preprocessing import StandardScaler\n",
    "scaler=StandardScaler()\n",
    "scaled_bitcoin=pd.DataFrame(scaler.fit_transform(bitcoin.drop(columns=['Date','sqrt_btc_market_price'])))\n",
    "scaled_bitcoin.columns =list(bitcoin.columns)[1:-1]\n",
    "scaled_bitcoin['Date']=bitcoin['Date']\n",
    "scaled_bitcoin['sqrt_btc_market_price']=bitcoin['sqrt_btc_market_price']"
   ]
  },
  {
   "cell_type": "markdown",
   "metadata": {},
   "source": [
    "### Train and Test Split"
   ]
  },
  {
   "cell_type": "code",
   "execution_count": 672,
   "metadata": {},
   "outputs": [],
   "source": [
    "scaled_bitcoin['Date'] = pd.to_datetime(scaled_bitcoin['Date'])\n",
    "train=scaled_bitcoin[scaled_bitcoin['Date']<'2017-01-01 00:00:00']\n",
    "test=scaled_bitcoin[scaled_bitcoin['Date']>='2017-01-01 00:00:00']\n",
    "\n",
    "train=train.drop(['Date'], axis=1)\n",
    "test=test.drop(['Date'], axis=1)"
   ]
  },
  {
   "cell_type": "code",
   "execution_count": 673,
   "metadata": {},
   "outputs": [
    {
     "name": "stdout",
     "output_type": "stream",
     "text": [
      "(2504, 29) (416, 29) (2920, 30)\n"
     ]
    }
   ],
   "source": [
    "print(train.shape,test.shape,bitcoin.shape)"
   ]
  },
  {
   "cell_type": "markdown",
   "metadata": {},
   "source": [
    "b.  [20 Points] Model Selection Criterion. Use AIC and BIC criteria to select the best model and report the result from each of them. Use the forward selection for AIC and backward selection for BIC. Report the following mean squared error from **both training and testing data**. \n",
    "\n",
    "    * The mean squared error: $n^{-1} \\sum_{i}(Y_i - \\widehat{Y}_i)^2$\n",
    "    * Since these quantities can be affected by scaling and transformation, make sure that you **state any modifications applied to the outcome variable**. Compare the training data errors and testing data errors. Which model works better? Provide a summary of your results. "
   ]
  },
  {
   "cell_type": "code",
   "execution_count": 674,
   "metadata": {},
   "outputs": [],
   "source": [
    "import statsmodels.formula.api as smf\n",
    "import pandas.util.testing as tm\n",
    "import copy\n",
    "\n",
    "def forward_aic(data, response):\n",
    "    \"\"\"Linear model designed by forward selection.\n",
    "    Parameters:\n",
    "    -----------\n",
    "    data : pandas DataFrame with all possible predictors and response\n",
    "    response: string, name of response column in data\n",
    "    Returns:\n",
    "    --------\n",
    "    model: an \"optimal\" fitted statsmodels linear model\n",
    "           with an intercept\n",
    "           selected by forward selection\n",
    "           evaluated by adjusted R-squared\n",
    "    \"\"\"\n",
    "    remaining = set(data.columns)\n",
    "    remaining.remove(response)\n",
    "    \n",
    "    selected = []\n",
    "    feature_list=[]\n",
    "    AIC_values=[]\n",
    "    \n",
    "    # Setting the intercept model AIC values\n",
    "    formula = \"{} ~ {} + 1\".format(response,\n",
    "                                   ' + '.join(selected))\n",
    "    model = smf.ols(formula, data).fit()\n",
    "    current_score, best_new_score = model.aic, model.aic\n",
    "\n",
    "    \n",
    "    while remaining and current_score == best_new_score:\n",
    "        scores_with_candidates = []\n",
    "        for candidate in remaining:\n",
    "            formula = \"{} ~ {} + 1\".format(response,\n",
    "                                           ' + '.join(selected + [candidate]))\n",
    "            \n",
    "            score = smf.ols(formula, data).fit().aic\n",
    "            scores_with_candidates.append((score, candidate))\n",
    "            \n",
    "        # Descreasing order sorting to get the lowest score popped out\n",
    "        scores_with_candidates.sort(reverse=True)\n",
    "        best_new_score, best_candidate = scores_with_candidates.pop()\n",
    "        if current_score > best_new_score:\n",
    "            remaining.remove(best_candidate)\n",
    "            selected.append(best_candidate)\n",
    "            current_score = best_new_score\n",
    "            feature_list.append(copy.copy(selected))\n",
    "            AIC_values.append(best_new_score)\n",
    "\n",
    "    df=pd.DataFrame({'feature_list':feature_list,'AIC_values':AIC_values})  \n",
    "    display(df)   \n",
    "    \n",
    "    formula = \"{} ~ {} + 1\".format(response,\n",
    "                                   ' + '.join(selected))\n",
    "    model = smf.ols(formula, data).fit()\n",
    "    return model"
   ]
  },
  {
   "cell_type": "code",
   "execution_count": 675,
   "metadata": {},
   "outputs": [
    {
     "data": {
      "text/html": [
       "<div>\n",
       "<style scoped>\n",
       "    .dataframe tbody tr th:only-of-type {\n",
       "        vertical-align: middle;\n",
       "    }\n",
       "\n",
       "    .dataframe tbody tr th {\n",
       "        vertical-align: top;\n",
       "    }\n",
       "\n",
       "    .dataframe thead th {\n",
       "        text-align: right;\n",
       "    }\n",
       "</style>\n",
       "<table border=\"1\" class=\"dataframe\">\n",
       "  <thead>\n",
       "    <tr style=\"text-align: right;\">\n",
       "      <th></th>\n",
       "      <th>feature_list</th>\n",
       "      <th>AIC_values</th>\n",
       "    </tr>\n",
       "  </thead>\n",
       "  <tbody>\n",
       "    <tr>\n",
       "      <th>0</th>\n",
       "      <td>[PastDay3]</td>\n",
       "      <td>11923.303269</td>\n",
       "    </tr>\n",
       "    <tr>\n",
       "      <th>1</th>\n",
       "      <td>[PastDay3, btc_total_bitcoins]</td>\n",
       "      <td>9135.368446</td>\n",
       "    </tr>\n",
       "    <tr>\n",
       "      <th>2</th>\n",
       "      <td>[PastDay3, btc_total_bitcoins, btc_miners_reve...</td>\n",
       "      <td>8456.063325</td>\n",
       "    </tr>\n",
       "    <tr>\n",
       "      <th>3</th>\n",
       "      <td>[PastDay3, btc_total_bitcoins, btc_miners_reve...</td>\n",
       "      <td>7958.656353</td>\n",
       "    </tr>\n",
       "    <tr>\n",
       "      <th>4</th>\n",
       "      <td>[PastDay3, btc_total_bitcoins, btc_miners_reve...</td>\n",
       "      <td>7842.200876</td>\n",
       "    </tr>\n",
       "    <tr>\n",
       "      <th>5</th>\n",
       "      <td>[PastDay3, btc_total_bitcoins, btc_miners_reve...</td>\n",
       "      <td>7079.003053</td>\n",
       "    </tr>\n",
       "    <tr>\n",
       "      <th>6</th>\n",
       "      <td>[PastDay3, btc_total_bitcoins, btc_miners_reve...</td>\n",
       "      <td>6830.594058</td>\n",
       "    </tr>\n",
       "    <tr>\n",
       "      <th>7</th>\n",
       "      <td>[PastDay3, btc_total_bitcoins, btc_miners_reve...</td>\n",
       "      <td>6689.653333</td>\n",
       "    </tr>\n",
       "    <tr>\n",
       "      <th>8</th>\n",
       "      <td>[PastDay3, btc_total_bitcoins, btc_miners_reve...</td>\n",
       "      <td>6385.751849</td>\n",
       "    </tr>\n",
       "    <tr>\n",
       "      <th>9</th>\n",
       "      <td>[PastDay3, btc_total_bitcoins, btc_miners_reve...</td>\n",
       "      <td>5664.021089</td>\n",
       "    </tr>\n",
       "    <tr>\n",
       "      <th>10</th>\n",
       "      <td>[PastDay3, btc_total_bitcoins, btc_miners_reve...</td>\n",
       "      <td>5422.697127</td>\n",
       "    </tr>\n",
       "    <tr>\n",
       "      <th>11</th>\n",
       "      <td>[PastDay3, btc_total_bitcoins, btc_miners_reve...</td>\n",
       "      <td>5248.248587</td>\n",
       "    </tr>\n",
       "    <tr>\n",
       "      <th>12</th>\n",
       "      <td>[PastDay3, btc_total_bitcoins, btc_miners_reve...</td>\n",
       "      <td>5198.093421</td>\n",
       "    </tr>\n",
       "    <tr>\n",
       "      <th>13</th>\n",
       "      <td>[PastDay3, btc_total_bitcoins, btc_miners_reve...</td>\n",
       "      <td>5143.150839</td>\n",
       "    </tr>\n",
       "    <tr>\n",
       "      <th>14</th>\n",
       "      <td>[PastDay3, btc_total_bitcoins, btc_miners_reve...</td>\n",
       "      <td>5103.698666</td>\n",
       "    </tr>\n",
       "    <tr>\n",
       "      <th>15</th>\n",
       "      <td>[PastDay3, btc_total_bitcoins, btc_miners_reve...</td>\n",
       "      <td>5084.966048</td>\n",
       "    </tr>\n",
       "    <tr>\n",
       "      <th>16</th>\n",
       "      <td>[PastDay3, btc_total_bitcoins, btc_miners_reve...</td>\n",
       "      <td>5077.387352</td>\n",
       "    </tr>\n",
       "    <tr>\n",
       "      <th>17</th>\n",
       "      <td>[PastDay3, btc_total_bitcoins, btc_miners_reve...</td>\n",
       "      <td>5072.020533</td>\n",
       "    </tr>\n",
       "    <tr>\n",
       "      <th>18</th>\n",
       "      <td>[PastDay3, btc_total_bitcoins, btc_miners_reve...</td>\n",
       "      <td>5066.971333</td>\n",
       "    </tr>\n",
       "  </tbody>\n",
       "</table>\n",
       "</div>"
      ],
      "text/plain": [
       "                                         feature_list    AIC_values\n",
       "0                                          [PastDay3]  11923.303269\n",
       "1                      [PastDay3, btc_total_bitcoins]   9135.368446\n",
       "2   [PastDay3, btc_total_bitcoins, btc_miners_reve...   8456.063325\n",
       "3   [PastDay3, btc_total_bitcoins, btc_miners_reve...   7958.656353\n",
       "4   [PastDay3, btc_total_bitcoins, btc_miners_reve...   7842.200876\n",
       "5   [PastDay3, btc_total_bitcoins, btc_miners_reve...   7079.003053\n",
       "6   [PastDay3, btc_total_bitcoins, btc_miners_reve...   6830.594058\n",
       "7   [PastDay3, btc_total_bitcoins, btc_miners_reve...   6689.653333\n",
       "8   [PastDay3, btc_total_bitcoins, btc_miners_reve...   6385.751849\n",
       "9   [PastDay3, btc_total_bitcoins, btc_miners_reve...   5664.021089\n",
       "10  [PastDay3, btc_total_bitcoins, btc_miners_reve...   5422.697127\n",
       "11  [PastDay3, btc_total_bitcoins, btc_miners_reve...   5248.248587\n",
       "12  [PastDay3, btc_total_bitcoins, btc_miners_reve...   5198.093421\n",
       "13  [PastDay3, btc_total_bitcoins, btc_miners_reve...   5143.150839\n",
       "14  [PastDay3, btc_total_bitcoins, btc_miners_reve...   5103.698666\n",
       "15  [PastDay3, btc_total_bitcoins, btc_miners_reve...   5084.966048\n",
       "16  [PastDay3, btc_total_bitcoins, btc_miners_reve...   5077.387352\n",
       "17  [PastDay3, btc_total_bitcoins, btc_miners_reve...   5072.020533\n",
       "18  [PastDay3, btc_total_bitcoins, btc_miners_reve...   5066.971333"
      ]
     },
     "metadata": {},
     "output_type": "display_data"
    }
   ],
   "source": [
    "forward_aic_model=forward_aic(train,'sqrt_btc_market_price')"
   ]
  },
  {
   "cell_type": "code",
   "execution_count": 676,
   "metadata": {},
   "outputs": [
    {
     "data": {
      "text/plain": [
       "Intercept                               28.056014\n",
       "PastDay3                                 2.548043\n",
       "btc_total_bitcoins                      -5.096110\n",
       "btc_miners_revenue                       0.575720\n",
       "btc_median_confirmation_time            -0.512899\n",
       "btc_market_cap                          53.533519\n",
       "btc_hash_rate                           -4.959079\n",
       "Year                                    11.829919\n",
       "Month                                    1.418140\n",
       "btc_blocks_size                        -57.365150\n",
       "btc_n_transactions_total                54.091652\n",
       "btc_cost_per_transaction                 1.946872\n",
       "btc_n_unique_addresses                   0.841724\n",
       "btc_transaction_fees                     0.686660\n",
       "Day                                      0.129507\n",
       "btc_avg_block_size                       0.635200\n",
       "btc_estimated_transaction_volume_usd     1.262269\n",
       "btc_n_transactions_per_block            -0.284150\n",
       "btc_n_transactions_excluding_popular     0.386802\n",
       "btc_n_orphaned_blocks                   -0.041095\n",
       "dtype: float64"
      ]
     },
     "execution_count": 676,
     "metadata": {},
     "output_type": "execute_result"
    }
   ],
   "source": [
    "## Best model as per forward selection as per AIC criterion\n",
    "forward_aic_model.params"
   ]
  },
  {
   "cell_type": "code",
   "execution_count": 677,
   "metadata": {},
   "outputs": [
    {
     "name": "stdout",
     "output_type": "stream",
     "text": [
      "For model selected using forward selection with AIC criterion\n",
      "Training Error:  561.2392834853159\n",
      "Testing Error:  2291444721.35452\n"
     ]
    }
   ],
   "source": [
    "from sklearn.metrics import mean_squared_error  \n",
    "train_aic_pred=forward_aic_model.predict(train)\n",
    "test_aic_pred=forward_aic_model.predict(test)\n",
    "\n",
    "#train_aic_original=scaler.inverse_transform(train['btc_market_price'])\n",
    "#test_aic_original=scaler.inverse_transform(test['btc_market_price'])\n",
    "\n",
    "#train_aic_pred_unscaled=scaler.inverse_transform(train_aic_pred)\n",
    "#test_aic_pred_unscaled=scaler.inverse_transform(test_aic_pred)\n",
    "\n",
    "aic_train_error=mean_squared_error(np.square(train['sqrt_btc_market_price']), np.square(train_aic_pred))\n",
    "aic_test_error= mean_squared_error(np.square(test['sqrt_btc_market_price']), np.square(test_aic_pred))\n",
    "\n",
    "print(\"For model selected using forward selection with AIC criterion\")\n",
    "print(\"Training Error: \",aic_train_error)\n",
    "print(\"Testing Error: \",aic_test_error)"
   ]
  },
  {
   "cell_type": "code",
   "execution_count": 678,
   "metadata": {},
   "outputs": [],
   "source": [
    "def backward_bic(data, response):\n",
    "    \"\"\"Linear model designed by forward selection.\n",
    "    Parameters:\n",
    "    -----------\n",
    "    data : pandas DataFrame with all possible predictors and response\n",
    "    response: string, name of response column in data\n",
    "    Returns:\n",
    "    --------\n",
    "    model: an \"optimal\" fitted statsmodels linear model\n",
    "           with an intercept\n",
    "           selected by forward selection\n",
    "           evaluated by adjusted R-squared\n",
    "    \"\"\"\n",
    "    remaining = set(data.columns)\n",
    "    remaining.remove(response)\n",
    "    \n",
    "    feature_list=[]\n",
    "    BIC_values=[]\n",
    "    \n",
    "    selected = set(data.columns)\n",
    "    selected.remove(response)\n",
    "    \n",
    "    formula = \"{} ~ {} + 1\".format(response,\n",
    "                                   ' + '.join(selected))\n",
    "    model = smf.ols(formula, data).fit()\n",
    "    current_score, best_new_score = model.bic, model.bic\n",
    "    \n",
    "    \n",
    "    while selected and current_score == best_new_score:\n",
    "        scores_with_candidates = []\n",
    "        for candidate in remaining:\n",
    "            covariates=list(selected)\n",
    "            covariates.remove(candidate)\n",
    "   \n",
    "            formula = \"{} ~ {} + 1\".format(response,\n",
    "                                           ' + '.join(covariates))\n",
    "            \n",
    "            score = smf.ols(formula, data).fit().bic\n",
    "            scores_with_candidates.append((score, candidate))\n",
    "        scores_with_candidates.sort(reverse=True)\n",
    "        best_new_score, best_candidate = scores_with_candidates.pop()\n",
    "        if current_score > best_new_score:\n",
    "            remaining.remove(best_candidate)\n",
    "            selected.remove(best_candidate)\n",
    "            current_score = best_new_score\n",
    "            feature_list.append(selected)\n",
    "            BIC_values.append(current_score)\n",
    "    \n",
    "    df2=pd.DataFrame({'feature_list':feature_list,'BIC_values':BIC_values})  \n",
    "    display(df2) \n",
    "    \n",
    "    formula = \"{} ~ {} + 1\".format(response,\n",
    "                                   ' + '.join(selected))\n",
    "    model = smf.ols(formula, data).fit()\n",
    "    return model"
   ]
  },
  {
   "cell_type": "code",
   "execution_count": 679,
   "metadata": {},
   "outputs": [
    {
     "data": {
      "text/html": [
       "<div>\n",
       "<style scoped>\n",
       "    .dataframe tbody tr th:only-of-type {\n",
       "        vertical-align: middle;\n",
       "    }\n",
       "\n",
       "    .dataframe tbody tr th {\n",
       "        vertical-align: top;\n",
       "    }\n",
       "\n",
       "    .dataframe thead th {\n",
       "        text-align: right;\n",
       "    }\n",
       "</style>\n",
       "<table border=\"1\" class=\"dataframe\">\n",
       "  <thead>\n",
       "    <tr style=\"text-align: right;\">\n",
       "      <th></th>\n",
       "      <th>feature_list</th>\n",
       "      <th>BIC_values</th>\n",
       "    </tr>\n",
       "  </thead>\n",
       "  <tbody>\n",
       "    <tr>\n",
       "      <th>0</th>\n",
       "      <td>{btc_transaction_fees, Year, btc_hash_rate, bt...</td>\n",
       "      <td>5240.936270</td>\n",
       "    </tr>\n",
       "    <tr>\n",
       "      <th>1</th>\n",
       "      <td>{btc_transaction_fees, Year, btc_hash_rate, bt...</td>\n",
       "      <td>5233.118106</td>\n",
       "    </tr>\n",
       "    <tr>\n",
       "      <th>2</th>\n",
       "      <td>{btc_transaction_fees, Year, btc_hash_rate, bt...</td>\n",
       "      <td>5225.315794</td>\n",
       "    </tr>\n",
       "    <tr>\n",
       "      <th>3</th>\n",
       "      <td>{btc_transaction_fees, Year, btc_hash_rate, bt...</td>\n",
       "      <td>5217.517493</td>\n",
       "    </tr>\n",
       "    <tr>\n",
       "      <th>4</th>\n",
       "      <td>{btc_transaction_fees, Year, btc_hash_rate, bt...</td>\n",
       "      <td>5209.751145</td>\n",
       "    </tr>\n",
       "    <tr>\n",
       "      <th>5</th>\n",
       "      <td>{btc_transaction_fees, Year, btc_hash_rate, bt...</td>\n",
       "      <td>5202.450027</td>\n",
       "    </tr>\n",
       "    <tr>\n",
       "      <th>6</th>\n",
       "      <td>{btc_transaction_fees, Year, btc_hash_rate, bt...</td>\n",
       "      <td>5195.660928</td>\n",
       "    </tr>\n",
       "    <tr>\n",
       "      <th>7</th>\n",
       "      <td>{btc_transaction_fees, Year, btc_hash_rate, bt...</td>\n",
       "      <td>5188.104657</td>\n",
       "    </tr>\n",
       "    <tr>\n",
       "      <th>8</th>\n",
       "      <td>{btc_transaction_fees, Year, btc_hash_rate, bt...</td>\n",
       "      <td>5181.540355</td>\n",
       "    </tr>\n",
       "    <tr>\n",
       "      <th>9</th>\n",
       "      <td>{btc_transaction_fees, Year, btc_hash_rate, bt...</td>\n",
       "      <td>5175.275970</td>\n",
       "    </tr>\n",
       "  </tbody>\n",
       "</table>\n",
       "</div>"
      ],
      "text/plain": [
       "                                        feature_list   BIC_values\n",
       "0  {btc_transaction_fees, Year, btc_hash_rate, bt...  5240.936270\n",
       "1  {btc_transaction_fees, Year, btc_hash_rate, bt...  5233.118106\n",
       "2  {btc_transaction_fees, Year, btc_hash_rate, bt...  5225.315794\n",
       "3  {btc_transaction_fees, Year, btc_hash_rate, bt...  5217.517493\n",
       "4  {btc_transaction_fees, Year, btc_hash_rate, bt...  5209.751145\n",
       "5  {btc_transaction_fees, Year, btc_hash_rate, bt...  5202.450027\n",
       "6  {btc_transaction_fees, Year, btc_hash_rate, bt...  5195.660928\n",
       "7  {btc_transaction_fees, Year, btc_hash_rate, bt...  5188.104657\n",
       "8  {btc_transaction_fees, Year, btc_hash_rate, bt...  5181.540355\n",
       "9  {btc_transaction_fees, Year, btc_hash_rate, bt...  5175.275970"
      ]
     },
     "metadata": {},
     "output_type": "display_data"
    }
   ],
   "source": [
    "backward_bic_model=backward_bic(train,'sqrt_btc_market_price')"
   ]
  },
  {
   "cell_type": "code",
   "execution_count": 680,
   "metadata": {},
   "outputs": [
    {
     "data": {
      "text/plain": [
       "Intercept                               28.189325\n",
       "btc_transaction_fees                     0.700726\n",
       "Year                                    12.240053\n",
       "btc_hash_rate                           -4.708658\n",
       "btc_median_confirmation_time            -0.514851\n",
       "btc_n_transactions_total                52.925076\n",
       "btc_n_transactions_excluding_popular     0.423704\n",
       "btc_n_transactions_per_block            -0.260998\n",
       "btc_cost_per_transaction                 2.001452\n",
       "PastDay1                                 2.514212\n",
       "Day                                      0.133731\n",
       "btc_avg_block_size                       0.621682\n",
       "btc_blocks_size                        -56.629558\n",
       "btc_market_cap                          54.377538\n",
       "btc_estimated_transaction_volume_usd     1.401812\n",
       "Month                                    1.468672\n",
       "btc_n_orphaned_blocks                   -0.043693\n",
       "btc_n_unique_addresses                   0.836145\n",
       "btc_total_bitcoins                      -5.313367\n",
       "dtype: float64"
      ]
     },
     "execution_count": 680,
     "metadata": {},
     "output_type": "execute_result"
    }
   ],
   "source": [
    "## Best model as per backward selection as per BIC criterion\n",
    "backward_bic_model.params"
   ]
  },
  {
   "cell_type": "code",
   "execution_count": 681,
   "metadata": {},
   "outputs": [
    {
     "name": "stdout",
     "output_type": "stream",
     "text": [
      "For model selected using backward selection with BIC criterion\n",
      "Training Error:  561.2958693084367\n",
      "Testing Error:  2366784387.9913387\n"
     ]
    }
   ],
   "source": [
    "train_bic_pred=backward_bic_model.predict(train)\n",
    "test_bic_pred=backward_bic_model.predict(test)\n",
    "\n",
    "bic_train_error=mean_squared_error(np.square(train['sqrt_btc_market_price']), np.square(train_bic_pred))\n",
    "bic_test_error= mean_squared_error(np.square(test['sqrt_btc_market_price']), np.square(test_bic_pred))\n",
    "\n",
    "print(\"For model selected using backward selection with BIC criterion\")\n",
    "print(\"Training Error: \",bic_train_error)\n",
    "print(\"Testing Error: \",bic_test_error)"
   ]
  },
  {
   "cell_type": "markdown",
   "metadata": {},
   "source": [
    "### Summary\n",
    "\n",
    "The model with lower testing error is the better choice. In the present case the model obtained from forward selection approach using AIC criterion is the better performing one."
   ]
  },
  {
   "cell_type": "markdown",
   "metadata": {},
   "source": [
    "c.  [10 Points] Best Subset Selection. Fit the best subset selection to the dataset and report the best model of each model size (up to 7 variables, excluding the intercept) and their prediction errors. Make sure that you simplify your output to only present the essential information. If the algorithm cannot handle this many variables, then consider using just day 1 and 2 information. You can use `leaps` package for subset selection."
   ]
  },
  {
   "cell_type": "code",
   "execution_count": 682,
   "metadata": {},
   "outputs": [],
   "source": [
    "from sklearn.linear_model import LinearRegression\n",
    "from sklearn.metrics import mean_squared_error\n",
    "import itertools\n",
    "import pandas as pd\n",
    "from tqdm import tnrange, tqdm_notebook  #Importing tqdm for the progress bar\n",
    "import statsmodels.formula.api as smf"
   ]
  },
  {
   "cell_type": "markdown",
   "metadata": {},
   "source": [
    "For computational feasibility, using only limited columns."
   ]
  },
  {
   "cell_type": "code",
   "execution_count": 683,
   "metadata": {},
   "outputs": [
    {
     "data": {
      "text/html": [
       "<div>\n",
       "<style scoped>\n",
       "    .dataframe tbody tr th:only-of-type {\n",
       "        vertical-align: middle;\n",
       "    }\n",
       "\n",
       "    .dataframe tbody tr th {\n",
       "        vertical-align: top;\n",
       "    }\n",
       "\n",
       "    .dataframe thead th {\n",
       "        text-align: right;\n",
       "    }\n",
       "</style>\n",
       "<table border=\"1\" class=\"dataframe\">\n",
       "  <thead>\n",
       "    <tr style=\"text-align: right;\">\n",
       "      <th></th>\n",
       "      <th>PastDay3</th>\n",
       "      <th>PastDay2</th>\n",
       "      <th>PastDay1</th>\n",
       "      <th>sqrt_btc_market_price</th>\n",
       "    </tr>\n",
       "  </thead>\n",
       "  <tbody>\n",
       "    <tr>\n",
       "      <th>0</th>\n",
       "      <td>-0.372222</td>\n",
       "      <td>-0.371719</td>\n",
       "      <td>-0.371208</td>\n",
       "      <td>0.0</td>\n",
       "    </tr>\n",
       "    <tr>\n",
       "      <th>1</th>\n",
       "      <td>-0.372222</td>\n",
       "      <td>-0.371719</td>\n",
       "      <td>-0.371208</td>\n",
       "      <td>0.0</td>\n",
       "    </tr>\n",
       "    <tr>\n",
       "      <th>2</th>\n",
       "      <td>-0.372222</td>\n",
       "      <td>-0.371719</td>\n",
       "      <td>-0.371208</td>\n",
       "      <td>0.0</td>\n",
       "    </tr>\n",
       "    <tr>\n",
       "      <th>3</th>\n",
       "      <td>-0.372222</td>\n",
       "      <td>-0.371719</td>\n",
       "      <td>-0.371208</td>\n",
       "      <td>0.0</td>\n",
       "    </tr>\n",
       "    <tr>\n",
       "      <th>4</th>\n",
       "      <td>-0.372222</td>\n",
       "      <td>-0.371719</td>\n",
       "      <td>-0.371208</td>\n",
       "      <td>0.0</td>\n",
       "    </tr>\n",
       "  </tbody>\n",
       "</table>\n",
       "</div>"
      ],
      "text/plain": [
       "   PastDay3  PastDay2  PastDay1  sqrt_btc_market_price\n",
       "0 -0.372222 -0.371719 -0.371208                    0.0\n",
       "1 -0.372222 -0.371719 -0.371208                    0.0\n",
       "2 -0.372222 -0.371719 -0.371208                    0.0\n",
       "3 -0.372222 -0.371719 -0.371208                    0.0\n",
       "4 -0.372222 -0.371719 -0.371208                    0.0"
      ]
     },
     "execution_count": 683,
     "metadata": {},
     "output_type": "execute_result"
    }
   ],
   "source": [
    "small_data=pd.DataFrame(train.iloc[:, [22,23,24,28]])\n",
    "small_data['PastDay3']=pd.to_numeric(small_data['PastDay3'])\n",
    "small_data['PastDay2']=pd.to_numeric(small_data['PastDay2'])\n",
    "small_data['PastDay1']=pd.to_numeric(small_data['PastDay1'])\n",
    "small_data.head()"
   ]
  },
  {
   "cell_type": "code",
   "execution_count": 684,
   "metadata": {},
   "outputs": [],
   "source": [
    "#Initialization variables\n",
    "y = small_data.sqrt_btc_market_price\n",
    "X = small_data.drop(columns = ['sqrt_btc_market_price'])\n",
    "k = 3\n",
    "MSE, feature_list = [],[]\n",
    "num_features = []\n"
   ]
  },
  {
   "cell_type": "code",
   "execution_count": 685,
   "metadata": {},
   "outputs": [],
   "source": [
    "## Helper function for fitting Linear Regression\n",
    "\n",
    "from sklearn.linear_model import LinearRegression\n",
    "from sklearn.metrics import mean_squared_error\n",
    "\n",
    "\n",
    "def fit_linear_reg(X,y):\n",
    "    \"\"\"Fit linear regression model and return RSS and R squared values\"\"\"\n",
    "    model_k=LinearRegression().fit(X,y)\n",
    "    pred=model_k.predict(X)\n",
    "    MSE=mean_squared_error(np.square(y),np.square(pred))* len(y)\n",
    "    return MSE"
   ]
  },
  {
   "cell_type": "code",
   "execution_count": 686,
   "metadata": {},
   "outputs": [
    {
     "data": {
      "application/vnd.jupyter.widget-view+json": {
       "model_id": "023431e6f49f43b09585dd9ddf15ec55",
       "version_major": 2,
       "version_minor": 0
      },
      "text/plain": [
       "Loop...:   0%|          | 0/3 [00:00<?, ?it/s]"
      ]
     },
     "metadata": {},
     "output_type": "display_data"
    },
    {
     "data": {
      "text/html": [
       "<div>\n",
       "<style scoped>\n",
       "    .dataframe tbody tr th:only-of-type {\n",
       "        vertical-align: middle;\n",
       "    }\n",
       "\n",
       "    .dataframe tbody tr th {\n",
       "        vertical-align: top;\n",
       "    }\n",
       "\n",
       "    .dataframe thead th {\n",
       "        text-align: right;\n",
       "    }\n",
       "</style>\n",
       "<table border=\"1\" class=\"dataframe\">\n",
       "  <thead>\n",
       "    <tr style=\"text-align: right;\">\n",
       "      <th></th>\n",
       "      <th>number_of_features</th>\n",
       "      <th>MSE</th>\n",
       "      <th>feature_list</th>\n",
       "    </tr>\n",
       "  </thead>\n",
       "  <tbody>\n",
       "    <tr>\n",
       "      <th>0</th>\n",
       "      <td>1</td>\n",
       "      <td>2.321219e+07</td>\n",
       "      <td>(PastDay3,)</td>\n",
       "    </tr>\n",
       "    <tr>\n",
       "      <th>1</th>\n",
       "      <td>1</td>\n",
       "      <td>2.385350e+07</td>\n",
       "      <td>(PastDay2,)</td>\n",
       "    </tr>\n",
       "    <tr>\n",
       "      <th>2</th>\n",
       "      <td>1</td>\n",
       "      <td>2.492723e+07</td>\n",
       "      <td>(PastDay1,)</td>\n",
       "    </tr>\n",
       "    <tr>\n",
       "      <th>3</th>\n",
       "      <td>2</td>\n",
       "      <td>2.296916e+07</td>\n",
       "      <td>(PastDay3, PastDay2)</td>\n",
       "    </tr>\n",
       "    <tr>\n",
       "      <th>4</th>\n",
       "      <td>2</td>\n",
       "      <td>2.268304e+07</td>\n",
       "      <td>(PastDay3, PastDay1)</td>\n",
       "    </tr>\n",
       "    <tr>\n",
       "      <th>5</th>\n",
       "      <td>2</td>\n",
       "      <td>2.374183e+07</td>\n",
       "      <td>(PastDay2, PastDay1)</td>\n",
       "    </tr>\n",
       "    <tr>\n",
       "      <th>6</th>\n",
       "      <td>3</td>\n",
       "      <td>2.267516e+07</td>\n",
       "      <td>(PastDay3, PastDay2, PastDay1)</td>\n",
       "    </tr>\n",
       "  </tbody>\n",
       "</table>\n",
       "</div>"
      ],
      "text/plain": [
       "   number_of_features           MSE                    feature_list\n",
       "0                   1  2.321219e+07                     (PastDay3,)\n",
       "1                   1  2.385350e+07                     (PastDay2,)\n",
       "2                   1  2.492723e+07                     (PastDay1,)\n",
       "3                   2  2.296916e+07            (PastDay3, PastDay2)\n",
       "4                   2  2.268304e+07            (PastDay3, PastDay1)\n",
       "5                   2  2.374183e+07            (PastDay2, PastDay1)\n",
       "6                   3  2.267516e+07  (PastDay3, PastDay2, PastDay1)"
      ]
     },
     "execution_count": 686,
     "metadata": {},
     "output_type": "execute_result"
    }
   ],
   "source": [
    "import itertools\n",
    "import pandas as pd\n",
    "#from tqdm import tqdm_notebook  #Importing tqdm for the progress bar\n",
    "from tqdm.notebook import trange\n",
    "\n",
    "for k in trange(1,len(X.columns) + 1, desc = 'Loop...'):\n",
    "    \n",
    "        for comb in itertools.combinations(X.columns,k):\n",
    "            lm=fit_linear_reg(X[list(comb)],y)\n",
    "            MSE.append(lm)\n",
    "            num_features.append(len(comb))\n",
    "            feature_list.append(comb)\n",
    "\n",
    "df=pd.DataFrame({'number_of_features':num_features,'MSE':MSE,'feature_list':feature_list})  \n",
    "df"
   ]
  }
 ],
 "metadata": {
  "kernelspec": {
   "display_name": "Python 3",
   "language": "python",
   "name": "python3"
  },
  "language_info": {
   "codemirror_mode": {
    "name": "ipython",
    "version": 3
   },
   "file_extension": ".py",
   "mimetype": "text/x-python",
   "name": "python",
   "nbconvert_exporter": "python",
   "pygments_lexer": "ipython3",
   "version": "3.7.4"
  }
 },
 "nbformat": 4,
 "nbformat_minor": 2
}
