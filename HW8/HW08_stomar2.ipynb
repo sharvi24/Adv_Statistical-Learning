{
 "cells": [
  {
   "cell_type": "markdown",
   "metadata": {},
   "source": [
    "<h1><center>STAT-542 HW7</center></h1>\n",
    "Sharvi Tomar (stomar2)"
   ]
  },
  {
   "cell_type": "markdown",
   "metadata": {},
   "source": [
    "## About HW8\n",
    "\n",
    "In this HW, we will code both the primal and dual form of SVM and utilize a general quadratic programming (`quadprog` package) solve to help us obtain the solution."
   ]
  },
  {
   "cell_type": "markdown",
   "metadata": {},
   "source": [
    "## Question 1 [50 Points] Sovling SVM using Quadratic Programming\n",
    "\n",
    "\n",
    "Install the `quadprog` package. The same package is also available in Python. However, make sure to read their documentations carefully. We will utilize the function `solve.QP` to solve SVM. This function is trying to perform the minimization problem:\n",
    "\\begin{align}\n",
    "\\text{minimize} & \\quad \\frac{1}{2} b^T \\mathbf{D} b - d^T b, \\nonumber \\\\\n",
    "\\text{subject to} & \\quad \\mathbf{A}^T b \\geq b_0, \\nonumber\n",
    "\\end{align}\n",
    "where $b$ is the unknown parameter. For more details, read the documentation of the \\texttt{quadprog} package on CRAN. Use our the provided training data. This is a linearly separable problem. \n",
    "\n"
   ]
  },
  {
   "cell_type": "code",
   "execution_count": 36,
   "metadata": {},
   "outputs": [
    {
     "name": "stdout",
     "output_type": "stream",
     "text": [
      "Collecting quadprog\n",
      "  Downloading quadprog-0.1.11.tar.gz (121 kB)\n",
      "\u001b[K     |████████████████████████████████| 121 kB 3.3 MB/s eta 0:00:01\n",
      "\u001b[?25h  Installing build dependencies ... \u001b[?25ldone\n",
      "\u001b[?25h  Getting requirements to build wheel ... \u001b[?25ldone\n",
      "\u001b[?25h    Preparing wheel metadata ... \u001b[?25ldone\n",
      "\u001b[?25hRequirement already satisfied: numpy in /Users/sharvitomar/opt/anaconda3/lib/python3.7/site-packages (from quadprog) (1.19.5)\n",
      "Building wheels for collected packages: quadprog\n",
      "  Building wheel for quadprog (PEP 517) ... \u001b[?25ldone\n",
      "\u001b[?25h  Created wheel for quadprog: filename=quadprog-0.1.11-cp37-cp37m-macosx_10_9_x86_64.whl size=95388 sha256=e061b984027d0248ac6357a5270754b667eb4ddc48bc875e70e359af43627668\n",
      "  Stored in directory: /Users/sharvitomar/Library/Caches/pip/wheels/4a/4e/d7/41034ea11aeef1266df3cae546116cb6094e955c41ae3e2589\n",
      "Successfully built quadprog\n",
      "Installing collected packages: quadprog\n",
      "Successfully installed quadprog-0.1.11\n",
      "\u001b[33mWARNING: You are using pip version 22.0.3; however, version 22.0.4 is available.\n",
      "You should consider upgrading via the '/Users/sharvitomar/opt/anaconda3/bin/python -m pip install --upgrade pip' command.\u001b[0m\n"
     ]
    }
   ],
   "source": [
    "!pip install quadprog"
   ]
  },
  {
   "cell_type": "code",
   "execution_count": 3,
   "metadata": {},
   "outputs": [],
   "source": [
    "import pandas as pd\n",
    "train = pd.read_csv(\"SVM-Q1.csv\")\n",
    "train2 = pd.read_csv(\"SVM-Q2.csv\")"
   ]
  },
  {
   "cell_type": "code",
   "execution_count": 35,
   "metadata": {},
   "outputs": [
    {
     "data": {
      "text/plain": [
       "<matplotlib.legend.Legend at 0x137c1ad10>"
      ]
     },
     "execution_count": 35,
     "metadata": {},
     "output_type": "execute_result"
    },
    {
     "data": {
      "image/png": "[encoded data removed]",
      "text/plain": [
       "<Figure size 648x504 with 1 Axes>"
      ]
     },
     "metadata": {
      "needs_background": "light"
     },
     "output_type": "display_data"
    }
   ],
   "source": [
    "import matplotlib.pyplot as plt\n",
    "x = train.iloc[:,0:2].to_numpy()\n",
    "y = train.iloc[:,2]\n",
    "\n",
    "\n",
    "plt.figure(figsize=(9,7))\n",
    "plt.scatter(x[:,0], x[:,1], c = y) \n",
    "plt.xlabel(\"x1\")\n",
    "plt.ylabel(\"x2\")\n",
    "plt.legend(y)"
   ]
  },
  {
   "cell_type": "markdown",
   "metadata": {},
   "source": [
    "### a) [25 points] The Primal Form\n",
    "\n",
    "Use the formulation defined on page 13 of the `SVM` lecture note. The primal problem is \n",
    "$$\n",
    "\\begin{align}\n",
    "\\quad \\underset{\\beta_{0}, \\boldsymbol{\\beta}}{\\text{minimize}} &\\quad  \\frac{1}{2} \\|\\boldsymbol{\\beta}\\|^{2} \\\\\n",
    "\\text{subject to} &\\quad y_{i}\\left(x_{i}^{\\top} \\boldsymbol{\\beta}+\\beta_{0}\\right) \\geq 1, \\,\\, \\text{for} \\,\\, i=1, \\ldots, n\n",
    "\\end{align}\n",
    "$$\n",
    "\n",
    "Perform the following:\n",
    "\n",
    "  * Let $b = (\\beta_0, \\boldsymbol \\beta)$ in the `solve.QP()` function. Properly define $\\mathbf{D}$, $d$, $\\mathbf{A}$ and $b_0$ corresponding to this $b$ for the linearly separable SVM primal problem.\n",
    "  * Calculate the decision function by solving this optimization problem with the `solve.QP()` function.\n",
    "  * Report our $\\beta_0$ and $\\boldsymbol \\beta$\n",
    "  * Plot the decision line on top the previous training data scatter plot. Include the two margin lines. Clearly mark the support vectors. \n",
    "\n",
    "__Note__: The package requires $\\mathbf{D}$ to be positive definite, while it is not true in our case. To address this problem, __add $10^{-10}$ to the top-left element__ of your $\\mathbf{D}$ matrix, which is the one corresponding to $\\beta_0$. This will make $\\mathbf{D}$ invertible. This may affect your results slightly. So be careful when plotting your support vectors. \n"
   ]
  },
  {
   "cell_type": "code",
   "execution_count": null,
   "metadata": {},
   "outputs": [],
   "source": []
  },
  {
   "cell_type": "markdown",
   "metadata": {},
   "source": [
    "### b) [25 points] The Dual Form\n",
    "\n",
    "Formulate the SVM __dual__ problem on page 21 the lecture note. The dual problem is \n",
    "\n",
    "$$\n",
    "\\begin{align}\n",
    "\\underset{\\boldsymbol \\alpha}{\\text{maximize}} & \\quad \\sum_{i=1}^{n} \\alpha_{i}-\\frac{1}{2} \\sum_{i, j=1}^{n} y_{i} y_{j} \\alpha_{i} \\alpha_{j} x_{i}^{\\top} x_{j} \\\\\n",
    "\\text{subject to} & \\quad \\alpha_{i} \\geq 0, \\,\\, \\text{for} \\,\\, i=1, \\ldots, n \\\\\n",
    "\\text{and} & \\quad \\sum_{i=1}^{n} \\alpha_{i} y_{i}=0\n",
    "\\end{align}\n",
    "$$\n",
    "\n",
    "Perform the following:\n",
    "\n",
    "  * Let $b = (\\alpha_1, \\ldots, \\alpha_n)^T$. Then properly define $\\mathbf{D}$, $d$, $\\mathbf{A}$ and $b_0$ corresponding to this $b$ for our SVM problem.\n",
    "  * Note: Equality constrains can be addressed using the `meq` argument.\n",
    "  * Obtain the solution using the `solve.QP()` function, and convert the solution into $\\boldsymbol \\beta$ and $\\beta_0$. \n",
    "  \n",
    "You need to report\n",
    "  * A table including $\\beta_0, \\beta_1, \\beta_2)$ of both Q1a and Q1b. Only keep first three digits after the decimal point.\n",
    "  * Plot the decision line on top of our scatter plot. Include the two margin lines. Clearly mark the support vectors. \n",
    "  * Report the $\\ell_1$ norm of $\\beta_{Q1a} - \\beta_{Q1b}$, where $\\beta_{Q1a}$ and $\\beta_{Q2b}$ are the 3-dimensional solution obtained in Q1a and Q1b, respectively.\n",
    "\n",
    "__Note__: Again, $\\mathbf{D}$ may not be positive definite. This time, add $10^{-10}$ to all diagonal elements to $\\mathbf{D}$. This may affect your results slightly. So be careful when plotting your support vectors. \n"
   ]
  },
  {
   "cell_type": "code",
   "execution_count": null,
   "metadata": {},
   "outputs": [],
   "source": []
  },
  {
   "cell_type": "markdown",
   "metadata": {},
   "source": [
    "## Question 2 [20 Points] Linearly nonseparable SVM\n",
    "\n",
    "In this question, we will follow the formulation in Page 30 to solve a linearly nonseparable SVM. The dual problem is given by \n",
    "\n",
    "$$\n",
    "\\begin{align}\n",
    "\\underset{\\boldsymbol \\alpha}{\\text{maximize}} & \\quad \\sum_{i=1}^{n} \\alpha_{i}-\\frac{1}{2} \\sum_{i, j=1}^{n} y_{i} y_{j} \\alpha_{i} \\alpha_{j} x_{i}^{\\top} x_{j} \\\\\n",
    "\\text{subject to} & \\quad 0 \\leq \\alpha_{i} \\leq C, \\,\\, \\text{for} \\,\\, i=1, \\ldots, n \\\\\n",
    "\\text{and} & \\quad \\sum_{i=1}^{n} \\alpha_{i} y_{i}=0\n",
    "\\end{align}\n",
    "$$\n",
    "\n",
    "Perform the following:\n",
    "\n",
    "  * Let $b = (\\alpha_1, \\ldots, \\alpha_n)^T$. Then properly define $\\mathbf{D}$, $d$, $\\mathbf{A}$ and $b_0$ corresponding to this $b$ for this problem. Use $C = 1$ as the penalty team. \n",
    "  * Note: Equality constrains can be addressed using the `meq` argument.\n",
    "  * Obtain the solution using the `solve.QP()` function, and convert the solution into $\\boldsymbol \\beta$ and $\\beta_0$. Note: \n",
    "    + use the information provided on page 32 to obtain the support vectors and $\\beta_0$. \n",
    "    + Your solution may encounter numerical errors, e.g., very small negative $\\alpha$ values, or values very close to $C$. You could consider thresholding them to exactly 0 or $C$\n",
    "    + Your $\\mathbf{D}$ may not be definite positive, so consider adding $10^{-10}$ to its diagonal elements. "
   ]
  },
  {
   "cell_type": "code",
   "execution_count": null,
   "metadata": {},
   "outputs": [],
   "source": []
  },
  {
   "cell_type": "code",
   "execution_count": null,
   "metadata": {},
   "outputs": [],
   "source": [
    "# set.seed(20)\n",
    "  # n = 200 # number of data points for each class\n",
    "  # p = 2 # dimension\n",
    "\n",
    "  # Generate the positive and negative examples\n",
    "  # xpos <- matrix(rnorm(n*p,mean=0,sd=1),n,p)\n",
    "  # xneg <- matrix(rnorm(n*p,mean=1.5,sd=1),n,p)\n",
    "  # x <- rbind(xpos,xneg)\n",
    "  # y <- c(rep(-1, n), rep(1, n))\n",
    "  # train = data.frame(x1 = x[, 1], x2 = x[, 2], y = y)\n",
    "  # write.csv(train, \"SVM-Q2.csv\", row.names = FALSE)\n",
    "\n",
    "  train = read.csv(\"SVM-Q2.csv\")\n",
    "  x = as.matrix(train[, 1:2])\n",
    "  y = train[, 3]\n",
    "  \n",
    "  set.seed(20)\n",
    "  n = 200 # number of data points for each class\n",
    "  p = 2 # dimension\n",
    "\n",
    "  # Generate the positive and negative examples\n",
    "  xpos <- matrix(rnorm(n*p,mean=0,sd=1),n,p)\n",
    "  xneg <- matrix(rnorm(n*p,mean=1.5,sd=1),n,p)\n",
    "  x <- rbind(xpos,xneg)\n",
    "  y <- c(rep(-1, n), rep(1, n))\n",
    "  \n",
    "  \n",
    "  plot(x, col=ifelse(y>0,\"darkorange\", \"deepskyblue\"), pch = 19, xlab = \"x1\", ylab = \"x2\")\n",
    "  legend(\"topleft\", c(\"Positive\",\"Negative\"), col=c(\"darkorange\", \"deepskyblue\"), \n",
    "         pch=c(19, 19), text.col=c(\"darkorange\", \"deepskyblue\"))"
   ]
  },
  {
   "cell_type": "markdown",
   "metadata": {},
   "source": [
    "## Question 3 [30 Points] Penalized Loss Linear SVM\n",
    "\n",
    "We can also perform linear and nonlinear classification using the penalized loss framework. In this question, we will only use the linear version. Use the same dataset in Question 2. Consider the following logistic loss function:\n",
    "\n",
    "$$L(y, f(x)) = \\log(1 + e^{- y f(x)}).$$\n",
    "\n",
    "The rest of the job is to solve this optimization problem if given the functional form of $f(x)$. To do this, we will utilize the general-purpose optimization package/function. For example, in `R`, you can use the `optim()` function. Read the documentation of this function (or equivalent ones in Python) and set up the objective function properly to solve for the parameters. If you need an example of how to use the `optim()` function, read the corresponding part in the example file provided on our course website [here](https://teazrq.github.io/stat542/other/r-intro.html) (Section 10).\n",
    "\n",
    "We let $f(x)$ is to be a linear function, SVM can be solved by optimizing a penalized loss:\n",
    "$$ \\underset{\\beta_0, \\boldsymbol\\beta}{\\arg\\min} \\quad \\sum_{i=1}^n L(y_i, \\beta_0 + x_i^T \\boldsymbol\\beta) + \\lambda \\lVert \\beta \\rVert^2$$\n",
    "\n",
    "\n",
    "You should use the data from Question 1, and answer these questions:\n",
    "  \n",
    "  * [10 pts] Drive the gradient of this loss function, typeset with LaTex. \n",
    "  * [10 pts] Write a  penalized loss objective function `SVMfn(b, x, y, lambda)` and its gradient `SVMgn(b, x, y, lambda)`.   \n",
    "  * [10 pts] Solve the coeffients using `optim()` and your objective and gradient functions with $\\lambda = 1$ and `BFGS` method. Use 0 as the initilized value. \n",
    "  \n",
    "Report the followings:\n",
    "\n",
    "  * Your coefficients\n",
    "  * Your loss and mis-classification rate on training data.\n",
    "  * Plot all data and the decision line\n",
    "  * Hint: If you want to check your gradient function, you can run `optim()` without a this gradient function and compare the parameters to your previous ones. Note this will be much slower. You are not required to report this result.   "
   ]
  },
  {
   "cell_type": "code",
   "execution_count": null,
   "metadata": {},
   "outputs": [],
   "source": []
  },
  {
   "cell_type": "code",
   "execution_count": null,
   "metadata": {},
   "outputs": [],
   "source": []
  },
  {
   "cell_type": "code",
   "execution_count": null,
   "metadata": {},
   "outputs": [],
   "source": []
  }
 ],
 "metadata": {
  "kernelspec": {
   "display_name": "Python 3",
   "language": "python",
   "name": "python3"
  },
  "language_info": {
   "codemirror_mode": {
    "name": "ipython",
    "version": 3
   },
   "file_extension": ".py",
   "mimetype": "text/x-python",
   "name": "python",
   "nbconvert_exporter": "python",
   "pygments_lexer": "ipython3",
   "version": "3.7.4"
  }
 },
 "nbformat": 4,
 "nbformat_minor": 2
}
