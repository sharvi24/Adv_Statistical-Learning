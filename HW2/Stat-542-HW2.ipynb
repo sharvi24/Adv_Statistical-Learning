{
 "cells": [
  {
   "cell_type": "markdown",
   "metadata": {},
   "source": [
    "<h1><center>STAT-542 HW2</center></h1>"
   ]
  },
  {
   "cell_type": "markdown",
   "metadata": {},
   "source": [
    "## About HW2"
   ]
  },
  {
   "cell_type": "markdown",
   "metadata": {},
   "source": [
    "For this HW, we mainly try to understand the KNN method in both classification and regression settings and use it to perform several real data examples. Tuning the model will help us understand the bias-variance trade-off. A slightly more challenging task is to code a KNN method yourself. For that question, you cannot use any additional package to assist the calculation."
   ]
  },
  {
   "cell_type": "markdown",
   "metadata": {},
   "source": [
    "## Question 1 [40 Points] KNN Classification (Diabetes)\n",
    "\n",
    "Load the Pima Indians Diabetes Database (`PimaIndiansDiabetes`) from the `mlbench` package. If you don't already have this package installed, use the following code. It also randomly splits the data into training and testing. You should preserve this split in the analysis. "
   ]
  },
  {
   "cell_type": "code",
   "execution_count": 104,
   "metadata": {},
   "outputs": [],
   "source": [
    "# Importing Diabetes Dataset\n",
    "import pandas as pd\n",
    "data=pd.read_csv(\"diabetes.csv\")\n",
    "\n",
    "#Converting the Outcome var to categorical type\n",
    "data['Outcome'] = pd.Categorical(data.Outcome)\n",
    "\n",
    "# Setting seed \n",
    "import random\n",
    "random.seed(10)\n",
    "\n",
    "# Generating random indices for train and test split\n",
    "trainid = random.sample(range(1,len(data)), len(data)//2)\n",
    "\n",
    "# Creating train and test data\n",
    "Diab_train = data.iloc[trainid]\n",
    "Diab_test = data.drop(trainid)"
   ]
  },
  {
   "cell_type": "code",
   "execution_count": 105,
   "metadata": {},
   "outputs": [
    {
     "data": {
      "text/plain": [
       "Pregnancies                    int64\n",
       "Glucose                        int64\n",
       "BloodPressure                  int64\n",
       "SkinThickness                  int64\n",
       "Insulin                        int64\n",
       "BMI                          float64\n",
       "DiabetesPedigreeFunction     float64\n",
       "Age                            int64\n",
       "Outcome                     category\n",
       "dtype: object"
      ]
     },
     "execution_count": 105,
     "metadata": {},
     "output_type": "execute_result"
    }
   ],
   "source": [
    "Diab_train.dtypes"
   ]
  },
  {
   "cell_type": "markdown",
   "metadata": {},
   "source": [
    "a) [10 pts] Fit a KNN model using `Diab.train` and calculate both training and testing errors. For the testing error, use `Diab.test`. Plot the two errors against the corresponding $k$ values. Make sure that you differentiate them using different colors/shapes and add proper legends. Use a grid of $k$ values (every integer) from 1 to 20. "
   ]
  },
  {
   "cell_type": "code",
   "execution_count": 106,
   "metadata": {},
   "outputs": [],
   "source": [
    "import numpy as np\n",
    "from sklearn.neighbors import KNeighborsClassifier\n",
    "from sklearn.metrics import accuracy_score\n",
    "\n",
    "# Creating a list of values of k: 1-20\n",
    "k_grid=list(range(1,21))\n",
    "\n",
    "# Lists for storing training and testing errors\n",
    "train_errors=[]\n",
    "test_errors=[]\n",
    "\n",
    "# Fitting KNN for different values of k\n",
    "for k in k_grid:\n",
    "    classifier = KNeighborsClassifier(n_neighbors=k)\n",
    "    classifier.fit(Diab_train.iloc[: , :8],Diab_train['Outcome'])\n",
    "    \n",
    "    tr_p=classifier.predict(Diab_train.iloc[: , :8])\n",
    "    te_p=classifier.predict(Diab_test.iloc[: , :8])\n",
    "    \n",
    "    train_errors.append(1-accuracy_score(Diab_train['Outcome'], tr_p))\n",
    "    test_errors.append(1-accuracy_score(Diab_test['Outcome'], te_p))"
   ]
  },
  {
   "cell_type": "code",
   "execution_count": 107,
   "metadata": {},
   "outputs": [
    {
     "data": {
      "image/png": "[encoded data removed]",
      "text/plain": [
       "<Figure size 432x288 with 1 Axes>"
      ]
     },
     "metadata": {
      "needs_background": "light"
     },
     "output_type": "display_data"
    }
   ],
   "source": [
    "# Plotting Training & Testing Errors for different values of k\n",
    "from matplotlib import pyplot as plt\n",
    "plt.plot(k_grid, train_errors)\n",
    "plt.plot(k_grid, test_errors)\n",
    "plt.legend([\"train_errors\", \"test_errors\"])\n",
    "plt.title('Training & Testing Errors for different values of k')\n",
    "plt.xlabel('Values of k')\n",
    "plt.ylabel('Errors')\n",
    "plt.show()"
   ]
  },
  {
   "cell_type": "markdown",
   "metadata": {},
   "source": [
    "b) [15 pts] Does the plot match (approximately) our intuition of the bias-variance trade-off in terms of having a U-shaped error? What is the optimal $k$ value based on this result? For the optimal `k`, what is the corresponding degrees-of-freedom and its error?"
   ]
  },
  {
   "cell_type": "markdown",
   "metadata": {},
   "source": [
    "The plot of testing errors across different values of k seems to go down on increasing the value of k. For larger k values(greater than the current k values) we will be able to see the full shape i.e. expected U-shaped error. On increasing k, the bias increases whereas the variance decreases."
   ]
  },
  {
   "cell_type": "code",
   "execution_count": 108,
   "metadata": {},
   "outputs": [
    {
     "name": "stdout",
     "output_type": "stream",
     "text": [
      "Optimal_k: 20\n",
      "Its corresponding error is:  0.2265625\n",
      "Its degrees of freedom are:  19.2\n"
     ]
    }
   ],
   "source": [
    "# Finding k corresponding to the minimum value of testing error\n",
    "optimal_k= test_errors.index(min(test_errors))+1\n",
    "\n",
    "# Error corresponding to optimal_k\n",
    "error= min(test_errors)\n",
    "\n",
    "# Degrees of freedom=n/k\n",
    "degrees_of_freedom=len(Diab_test)/optimal_k\n",
    "\n",
    "print('Optimal_k:', optimal_k)\n",
    "print('Its corresponding error is: ',error,)\n",
    "print('Its degrees of freedom are: ',degrees_of_freedom)"
   ]
  },
  {
   "cell_type": "markdown",
   "metadata": {},
   "source": [
    "c) [15 pts] Suppose we do not have access to `Diab.test` data. Thus, we need to further split the training data into train and validation data to tune `k`. For this question, use the `caret` package to complete the tuning. You are required to \n",
    "    * Train the model with cross-validation using the `train()` function.\n",
    "    * Specify the type of cross-validation using the `trainControl()` function. We need to use three-fold cross-validation.\n",
    "    * Specify a grid of tuning parameters. This can be done using `expand.grid(k = c(1:20))`.\n",
    "    * Report the best parameter with its error. Compare it with your `k` in b)."
   ]
  },
  {
   "cell_type": "markdown",
   "metadata": {},
   "source": [
    "For details, read either the example from SMLR or the documentation at [here](https://topepo.github.io/caret/model-training-and-tuning.html){target='_blank'} to learn how to use the `trainControl()` and `train()` functions. Some examples can also be found at [here](https://cran.r-project.org/web/packages/caret/caret.pdf){target='_blank'}. Apply the function to the `zip.train` data with our choice of $k$ grid. "
   ]
  },
  {
   "cell_type": "code",
   "execution_count": 109,
   "metadata": {},
   "outputs": [
    {
     "data": {
      "image/png": "[encoded data removed]",
      "text/plain": [
       "<Figure size 432x288 with 1 Axes>"
      ]
     },
     "metadata": {
      "needs_background": "light"
     },
     "output_type": "display_data"
    }
   ],
   "source": [
    "from sklearn.model_selection import cross_val_score\n",
    "\n",
    "k_range = range(1, 21)\n",
    "k_scores = []\n",
    "\n",
    "for k in k_range:\n",
    "    knn = KNeighborsClassifier(n_neighbors=k)\n",
    "    scores = cross_val_score(knn, Diab_train.iloc[: , :8], Diab_train['Outcome'], cv=3, scoring='accuracy')\n",
    "    k_scores.append(1-scores.mean())\n",
    "    \n",
    "# plot to see clearly\n",
    "plt.plot(k_range, k_scores)\n",
    "plt.xlabel('Value of K for KNN')\n",
    "plt.ylabel('Cross-Validation Errors')\n",
    "plt.show()"
   ]
  },
  {
   "cell_type": "code",
   "execution_count": 110,
   "metadata": {},
   "outputs": [
    {
     "name": "stdout",
     "output_type": "stream",
     "text": [
      "Optimal value of k is:  2\n",
      "Corresponding error is:  0.3203125\n"
     ]
    }
   ],
   "source": [
    "print(\"Optimal value of k is: \", k_scores.index(min(k_scores))+1)\n",
    "print(\"Corresponding error is: \", min(k_scores))"
   ]
  },
  {
   "cell_type": "markdown",
   "metadata": {},
   "source": [
    "The optimal k obtained in b) part was k=20 however, for c) part it is k=2. \n",
    "\n",
    "This is because in c) part, we calculated the best k value using cross-validation on train data unlike simply taking the k value which gives minimum error on test data. Such k value may not be the best choice when performing the KNN algorithm on other unseen data. Since we obtained k from peeking into the test data(which in many cases is not available beforehand), therefore, it may not perform well on other unseen data."
   ]
  },
  {
   "cell_type": "markdown",
   "metadata": {},
   "source": [
    "## Question 2 [40 Points] Write your own KNN for regression"
   ]
  },
  {
   "cell_type": "markdown",
   "metadata": {},
   "source": [
    "a) [10 pts] Generate p=5 independent standard Normal covariates X1,X2,X3,X4,X5 of n=1000 independent observations. Then, generate Y from the regression model\n",
    "\n",
    "$$Y=X1+0.5×X2−X3+ϵ,$$\n",
    "\n",
    "with i.i.d. standard normal error ϵ. Make sure to set a random seed 1 for reproducibility."
   ]
  },
  {
   "cell_type": "markdown",
   "metadata": {},
   "source": [
    "* Use a KNN implementation from an existing package. Report the mean squared error (MSE) for your prediction with k = 5. Use the first 500 observations as the training data and the rest as testing data. Predict the Y values using your KNN function with k = 5. Mean squared error is $$\\frac{1}{N}∑_i(yi−yˆi)^2$$\n",
    "This question also helps you validate your own function in b). a) and b) are expected have similar (possibly not identical) results.\n",
    "\n",
    "* Hints: this is a regression problem instead of a classification one."
   ]
  },
  {
   "cell_type": "code",
   "execution_count": 115,
   "metadata": {},
   "outputs": [
    {
     "name": "stdout",
     "output_type": "stream",
     "text": [
      "Mean Squared Error for KNN with k=5 for testing data is:  1.299357540070286\n"
     ]
    }
   ],
   "source": [
    "# Generating 5 independent standard Normal covariates\n",
    "import random\n",
    "import numpy as np\n",
    "random.seed(1)\n",
    "X = np.random.normal(0, 1, size=(1000, 5))\n",
    "\n",
    "# Generating Y with i.i.d. standard normal error ϵ\n",
    "random.seed(1)\n",
    "Y = X[:,0]+0.5*X[:,1]-X[:,2]+np.random.normal(0, 1, 1000)\n",
    "\n",
    "# Dividing into train and test data\n",
    "X_train=X[:500,:]\n",
    "Y_train=Y[:500]\n",
    "\n",
    "X_test=X[500:,:]\n",
    "Y_test=Y[500:]\n",
    "\n",
    "\n",
    "from sklearn.neighbors import KNeighborsRegressor\n",
    "from sklearn.metrics import mean_squared_error \n",
    "random.seed(1)\n",
    "KNN_regressor = KNeighborsRegressor(n_neighbors=5)\n",
    "KNN_regressor.fit(X_train, Y_train)\n",
    "y_pred=KNN_regressor.predict(X_test)\n",
    "\n",
    "mse=mean_squared_error(Y_test,y_pred)\n",
    "print(\"Mean Squared Error for KNN with k=5 for testing data is: \", mse)"
   ]
  },
  {
   "cell_type": "markdown",
   "metadata": {},
   "source": [
    "b) 30 pts] For this question, you cannot use (load) any additional R package. Write your own function myknn(xtrain, ytrain, xtest, k) that fits a KNN model and predict multiple target points xtest. The function should return a variable ytest.\n",
    "\n",
    "* Here, xtrain is the training dataset covariate value, ytrain is the training data outcome, and k is the number of nearest neighbors. ytest is the prediction on xtest.\n",
    "\n",
    "* Use Euclidean distance to calculate the closeness between two points.\n",
    "\n",
    "* Test your code by reporting the mean square error on the testing data."
   ]
  },
  {
   "cell_type": "code",
   "execution_count": 116,
   "metadata": {},
   "outputs": [
    {
     "name": "stdout",
     "output_type": "stream",
     "text": [
      "Mean Squared Error for myknn() with k=5 on testing data is:  5.57684291746263\n"
     ]
    }
   ],
   "source": [
    "# calculate the Euclidean distance between two vectors\n",
    "def euclidean_distance(test, train):\n",
    "    return np.sum(np.square(test-train))\n",
    "\n",
    "def myknn(xtrain, ytrain, xtest, k):\n",
    "    distances = [[0]*len(xtrain)]*len(xtest)\n",
    "    for i in range(len(xtest)):\n",
    "        for j in range(len(xtrain)):\n",
    "            dist = euclidean_distance(xtest[i], xtrain[j])\n",
    "            distances[i][j]=(i, dist)\n",
    "            \n",
    "    neighbors = [[0]*k]*len(xtest)\n",
    "    for i in range(len(xtest)):\n",
    "        distances[i].sort(key=lambda tup: tup[1])\n",
    "        for j in range(k):\n",
    "            neighbors[i][j]=(distances[i][j][0])\n",
    "    \n",
    "    prediction = [0]*len(xtest)\n",
    "    for i in range(len(xtest)):\n",
    "        output_values = [X_train[row][-1] for row in neighbors[i]]\n",
    "        prediction[i]= np.mean(output_values)\n",
    "    return prediction\n",
    "\n",
    "my_y_pred=myknn(X_train, Y_train, X_test, 5)\n",
    "my_mse=mean_squared_error(Y_test,my_y_pred)\n",
    "print(\"Mean Squared Error for myknn() with k=5 on testing data is: \", my_mse)"
   ]
  },
  {
   "cell_type": "markdown",
   "metadata": {},
   "source": [
    "## Question 3 [30 Points] Curse of Dimensionality\n",
    "\n",
    "Let’s consider a high-dimensional setting. Keep the data-generating model the same as question 3. In addition to the outcomes and covariates from question 3, we will also generate 95 more noisy variables to make p = 100. In this question, you can use a KNN function from any existing package.\n",
    "\n",
    "We consider two different settings to generate that additional set of 95 covariates. Make sure to set random seeds for reproducibility.\n",
    "\n",
    "* Generate another 95-dimensional covariates with all independent standard Gaussian entries.\n",
    "\n",
    "* Generate another 95-dimensional covariates using the formula XTA, where X is the original 5-dimensional vector, and A is a 5×95 dimensional (fixed) matrix that remains the same for all observations. You should generate A just once using i.i.d. uniform [0,1] entries and then apply A to your current 5-dimensional data.\n",
    "\n",
    "Fit KNN in both settings (with the total of 100 covariates) and select the best k value. Answer the following questions"
   ]
  },
  {
   "cell_type": "markdown",
   "metadata": {},
   "source": [
    "a) [10 pts] For the first setting, what is the best k and the best mean squared error for prediction?"
   ]
  },
  {
   "cell_type": "code",
   "execution_count": 126,
   "metadata": {},
   "outputs": [],
   "source": [
    "#### Setting-1 #####\n",
    "\n",
    "# Generating additional 95 covariates\n",
    "random.seed(1)\n",
    "X_95_1 = np.random.normal(0,1,size=(1000,95))\n",
    "\n",
    "# Combining with original 5 covariates\n",
    "X_1=np.concatenate((X,X_95_1),axis=1)\n",
    "\n",
    "X_1_train=X_1[:500,:]\n",
    "X_1_test=X_1[500:,:]"
   ]
  },
  {
   "cell_type": "code",
   "execution_count": 161,
   "metadata": {},
   "outputs": [
    {
     "name": "stdout",
     "output_type": "stream",
     "text": [
      "Optimal_k: 20\n",
      "Its corresponding MSE is:  2.616764592506863\n",
      "Its degrees of freedom are:  25.0\n"
     ]
    }
   ],
   "source": [
    "from sklearn.metrics import mean_squared_error \n",
    "# Lists for storing training and testing errors\n",
    "train_errors_s1=[]\n",
    "test_errors_s1=[]\n",
    "\n",
    "# Fitting KNN for different values of k\n",
    "for k in k_grid:\n",
    "    regressor_s1 = KNeighborsRegressor(n_neighbors=k)\n",
    "    regressor_s1.fit(X_1_train,Y_train)\n",
    "    \n",
    "    tr_p=regressor_s1.predict(X_1_train)\n",
    "    te_p=regressor_s1.predict(X_1_test)\n",
    "    \n",
    "    train_errors_s1.append(mean_squared_error(Y_train, tr_p))\n",
    "    test_errors_s1.append(mean_squared_error(Y_test, te_p))\n",
    "    \n",
    "# Finding k corresponding to the minimum value of testing error\n",
    "optimal_k_s1= test_errors_s1.index(min(test_errors_s1))+1\n",
    "\n",
    "# Error corresponding to optimal_k\n",
    "error_s1= min(test_errors_s1)\n",
    "\n",
    "# Degrees of freedom=n/k\n",
    "degrees_of_freedom_s1=len(X_1_test)/optimal_k_s1\n",
    "\n",
    "print('Optimal_k:', optimal_k_s1)\n",
    "print('Its corresponding MSE is: ',error_s1)\n",
    "print('Its degrees of freedom are: ',degrees_of_freedom_s1)    "
   ]
  },
  {
   "cell_type": "markdown",
   "metadata": {},
   "source": [
    "b) [10 pts] For the second setting, what is the best k and the best mean squared error for prediction?\n"
   ]
  },
  {
   "cell_type": "code",
   "execution_count": 145,
   "metadata": {},
   "outputs": [],
   "source": [
    "#### Setting-2 #####\n",
    "\n",
    "# Generating additional 95 covariates\n",
    "random.seed(1)\n",
    "\n",
    "# generate A just once using i.i.d. uniform [0,1] entries \n",
    "A = np.random.uniform(0,1,(5,95))\n",
    "\n",
    "X_95_2=[]\n",
    "for i in range(len(X)):\n",
    "    #X_95_2[i]=np.dot(X[i][:],A)\n",
    "    X_95_2.append(np.dot(X[i],A))\n",
    "    \n",
    "# Combining with original 5 covariates\n",
    "X_2=np.concatenate((X,X_95_2),axis=1)   \n",
    "\n",
    "X_2_train=X_2[:500,:]\n",
    "X_2_test=X_2[500:,:]"
   ]
  },
  {
   "cell_type": "code",
   "execution_count": 162,
   "metadata": {},
   "outputs": [
    {
     "name": "stdout",
     "output_type": "stream",
     "text": [
      "Optimal_k: 11\n",
      "Its corresponding MSE is:  1.4227359106120168\n",
      "Its degrees of freedom are:  45.45454545454545\n"
     ]
    }
   ],
   "source": [
    "from sklearn.metrics import mean_squared_error \n",
    "# Lists for storing training and testing errors\n",
    "train_errors_s2=[]\n",
    "test_errors_s2=[]\n",
    "\n",
    "# Fitting KNN for different values of k\n",
    "for k in k_grid:\n",
    "    regressor_s2 = KNeighborsRegressor(n_neighbors=k)\n",
    "    regressor_s2.fit(X_2_train,Y_train)\n",
    "    \n",
    "    tr_p=regressor_s2.predict(X_2_train)\n",
    "    te_p=regressor_s2.predict(X_2_test)\n",
    "    \n",
    "    train_errors_s2.append(mean_squared_error(Y_train, tr_p))\n",
    "    test_errors_s2.append(mean_squared_error(Y_test, te_p))\n",
    "    \n",
    "# Finding k corresponding to the minimum value of testing error\n",
    "optimal_k_s2= test_errors_s2.index(min(test_errors_s2))+1\n",
    "\n",
    "# Error corresponding to optimal_k\n",
    "error_s2= min(test_errors_s2)\n",
    "\n",
    "# Degrees of freedom=n/k\n",
    "degrees_of_freedom_s2=len(X_2_test)/optimal_k_s2\n",
    "\n",
    "print('Optimal_k:', optimal_k_s2)\n",
    "print('Its corresponding MSE is: ',error_s2)\n",
    "print('Its degrees of freedom are: ',degrees_of_freedom_s2)    "
   ]
  },
  {
   "cell_type": "markdown",
   "metadata": {},
   "source": [
    "c) [10 pts] In which setting kNN performs better? Why?"
   ]
  },
  {
   "cell_type": "raw",
   "metadata": {},
   "source": [
    "The prediction error for setting-1 with all independent covariates is  higher in comparison to the prediction error for setting-2. Setting-2 does not have independent but rather correlated covariates and hence, there possibly exists a lower dimension(than the present dimension) where all the variates are independent.Since there exists a lower dimensional sub-space for setting-2 but not for setting-1, setting-2 data prediction errors should be less. \n",
    "\n",
    "Nearest neighbor methods usually do not perform very well on high-dimensional data. This is because for any given target point, there will not be enough training data that lies close enough. If these neighbors are really close to the target point, then this would be a good estimation with small bias. On increasing the dimensions of data, we will have the nearest observations also quite far away from the target point at each dimension. Hence there will be a very large bias. Decreasing k does not help much in this situation since even the closest point can be really far away, and the model would have large variance."
   ]
  }
 ],
 "metadata": {
  "kernelspec": {
   "display_name": "Python 3",
   "language": "python",
   "name": "python3"
  },
  "language_info": {
   "codemirror_mode": {
    "name": "ipython",
    "version": 3
   },
   "file_extension": ".py",
   "mimetype": "text/x-python",
   "name": "python",
   "nbconvert_exporter": "python",
   "pygments_lexer": "ipython3",
   "version": "3.7.4"
  }
 },
 "nbformat": 4,
 "nbformat_minor": 2
}
